{
 "cells": [
  {
   "cell_type": "code",
   "execution_count": 1,
   "id": "downtown-yemen",
   "metadata": {},
   "outputs": [
    {
     "name": "stdout",
     "output_type": "stream",
     "text": [
      "This is a generator object: <generator object yesman at 0x10f3faeb0>\n",
      "yes 1\n",
      "yes 2\n",
      "I really mean yes\n"
     ]
    },
    {
     "ename": "StopIteration",
     "evalue": "",
     "output_type": "error",
     "traceback": [
      "\u001b[0;31m---------------------------------------------------------------------------\u001b[0m",
      "\u001b[0;31mStopIteration\u001b[0m                             Traceback (most recent call last)",
      "\u001b[0;32m<ipython-input-1-ef6ba45489ec>\u001b[0m in \u001b[0;36m<module>\u001b[0;34m\u001b[0m\n\u001b[1;32m     21\u001b[0m \u001b[0mnext\u001b[0m\u001b[0;34m(\u001b[0m\u001b[0mygen\u001b[0m\u001b[0;34m)\u001b[0m    \u001b[0;31m#  prints yes1 and then returns at first yield\u001b[0m\u001b[0;34m\u001b[0m\u001b[0;34m\u001b[0m\u001b[0m\n\u001b[1;32m     22\u001b[0m \u001b[0mnext\u001b[0m\u001b[0;34m(\u001b[0m\u001b[0mygen\u001b[0m\u001b[0;34m)\u001b[0m    \u001b[0;31m#  continues from there, printing yes2 and returning at second yield\u001b[0m\u001b[0;34m\u001b[0m\u001b[0;34m\u001b[0m\u001b[0m\n\u001b[0;32m---> 23\u001b[0;31m \u001b[0mnext\u001b[0m\u001b[0;34m(\u001b[0m\u001b[0mygen\u001b[0m\u001b[0;34m)\u001b[0m    \u001b[0;31m#  continues from there, printing final message and then throwing StopIteration\u001b[0m\u001b[0;34m\u001b[0m\u001b[0;34m\u001b[0m\u001b[0m\n\u001b[0m",
      "\u001b[0;31mStopIteration\u001b[0m: "
     ]
    }
   ],
   "source": [
    "import time\n",
    "#\n",
    "#   When you call a function that contains the \"yield\"\n",
    "#   comand in it, the function returns a generator.\n",
    "#\n",
    "def yesman():\n",
    "    print(\"yes 1\")\n",
    "    yield\n",
    "    print(\"yes 2\")\n",
    "    yield\n",
    "    print(\"I really mean yes\")\n",
    "\n",
    "# calling the function yields a generator, but nothing else\n",
    "# Notice, no printing occurs when the generator gets created\n",
    "ygen = yesman()\n",
    "\n",
    "\n",
    "print(\"This is a generator object: {}\".format(ygen))\n",
    "\n",
    "# generator object handles next() and runs until the next yield keyword\n",
    "next(ygen)    #  prints yes1 and then returns at first yield\n",
    "next(ygen)    #  continues from there, printing yes2 and returning at second yield\n",
    "next(ygen)    #  continues from there, printing final message and then throwing StopIteration"
   ]
  },
  {
   "cell_type": "code",
   "execution_count": 2,
   "id": "blond-harmony",
   "metadata": {},
   "outputs": [
    {
     "name": "stdout",
     "output_type": "stream",
     "text": [
      "yes 1\n",
      "yes 2\n",
      "I really mean yes\n"
     ]
    }
   ],
   "source": [
    "# notice the third call does the print, but then throws the\n",
    "# StopIteration exception.     Typical iteration catches that.\n",
    "# If you are doing your own thing, you'll need to catch it.\n",
    "# Below we catch the end of the iteration and break out of the loop\n",
    "\n",
    "ygen = yesman()\n",
    "while True:\n",
    "    try:\n",
    "        next(ygen)\n",
    "        time.sleep(1.0)\n",
    "    except StopIteration:\n",
    "        break"
   ]
  },
  {
   "cell_type": "code",
   "execution_count": null,
   "id": "visible-baking",
   "metadata": {},
   "outputs": [],
   "source": [
    "# By catching the StopIteration exception and using to determine\n",
    "# to break out of the infinite loop, we end up with a graceful exit.\n",
    "        \n",
    "\n",
    "# Also regular iteration works fine, since it stops when the\n",
    "# StopIteration occurs.     This is pretty compact.\n",
    "for _ in yesman():\n",
    "    time.sleep(1.0)"
   ]
  },
  {
   "cell_type": "code",
   "execution_count": 3,
   "id": "animated-culture",
   "metadata": {},
   "outputs": [
    {
     "name": "stdout",
     "output_type": "stream",
     "text": [
      "yes 1\n",
      "yes 2\n",
      "I really mean yes\n",
      "yes 1\n",
      "yes 2\n",
      "I really mean yes\n"
     ]
    }
   ],
   "source": [
    "# You can wrap up a generator in another function and make it\n",
    "# a generator.  This generator lets you compose two generators\n",
    "# back to back.   When one finishes, the other continues.\n",
    "def yesmen():\n",
    "    yield from yesman()\n",
    "    yield from yesman()\n",
    "\n",
    "for _ in yesmen():\n",
    "    time.sleep(0.5)"
   ]
  },
  {
   "cell_type": "code",
   "execution_count": 4,
   "id": "absolute-rouge",
   "metadata": {},
   "outputs": [
    {
     "name": "stdout",
     "output_type": "stream",
     "text": [
      "yes\n",
      "yes\n",
      "yes\n",
      "yes\n",
      "yes\n",
      "yes\n"
     ]
    },
    {
     "ename": "KeyboardInterrupt",
     "evalue": "",
     "output_type": "error",
     "traceback": [
      "\u001b[0;31m---------------------------------------------------------------------------\u001b[0m",
      "\u001b[0;31mKeyboardInterrupt\u001b[0m                         Traceback (most recent call last)",
      "\u001b[0;32m<ipython-input-4-15caa9831b20>\u001b[0m in \u001b[0;36m<module>\u001b[0;34m\u001b[0m\n\u001b[1;32m      8\u001b[0m \u001b[0;31m#  it in a command shell, use the\u001b[0m\u001b[0;34m\u001b[0m\u001b[0;34m\u001b[0m\u001b[0;34m\u001b[0m\u001b[0m\n\u001b[1;32m      9\u001b[0m \u001b[0;32mfor\u001b[0m \u001b[0m_\u001b[0m \u001b[0;32min\u001b[0m \u001b[0myesman\u001b[0m\u001b[0;34m(\u001b[0m\u001b[0;34m)\u001b[0m\u001b[0;34m:\u001b[0m\u001b[0;34m\u001b[0m\u001b[0;34m\u001b[0m\u001b[0m\n\u001b[0;32m---> 10\u001b[0;31m     \u001b[0mtime\u001b[0m\u001b[0;34m.\u001b[0m\u001b[0msleep\u001b[0m\u001b[0;34m(\u001b[0m\u001b[0;36m1\u001b[0m\u001b[0;34m)\u001b[0m\u001b[0;34m\u001b[0m\u001b[0;34m\u001b[0m\u001b[0m\n\u001b[0m",
      "\u001b[0;31mKeyboardInterrupt\u001b[0m: "
     ]
    }
   ],
   "source": [
    "# generators can generate forever\n",
    "def yesman():\n",
    "    while True:\n",
    "        print(\"yes\")\n",
    "        yield\n",
    "\n",
    "#  type ctrl-c to stop this if you are running\n",
    "#  it in a command shell, use the square stop button\n",
    "#  if you are running in jupyter notebook\n",
    "for _ in yesman():\n",
    "    time.sleep(1)"
   ]
  },
  {
   "cell_type": "code",
   "execution_count": 6,
   "id": "spoken-pepper",
   "metadata": {},
   "outputs": [
    {
     "name": "stdout",
     "output_type": "stream",
     "text": [
      "yes\n",
      "yes\n",
      "yes\n"
     ]
    },
    {
     "ename": "KeyboardInterrupt",
     "evalue": "",
     "output_type": "error",
     "traceback": [
      "\u001b[0;31m---------------------------------------------------------------------------\u001b[0m",
      "\u001b[0;31mKeyboardInterrupt\u001b[0m                         Traceback (most recent call last)",
      "\u001b[0;32m<ipython-input-6-3be063ed2280>\u001b[0m in \u001b[0;36m<module>\u001b[0;34m\u001b[0m\n\u001b[1;32m      9\u001b[0m \u001b[0;32mfor\u001b[0m \u001b[0manswer\u001b[0m \u001b[0;32min\u001b[0m \u001b[0mforeveryes\u001b[0m\u001b[0;34m(\u001b[0m\u001b[0;34m)\u001b[0m\u001b[0;34m:\u001b[0m\u001b[0;34m\u001b[0m\u001b[0;34m\u001b[0m\u001b[0m\n\u001b[1;32m     10\u001b[0m     \u001b[0mprint\u001b[0m\u001b[0;34m(\u001b[0m\u001b[0manswer\u001b[0m\u001b[0;34m)\u001b[0m\u001b[0;34m\u001b[0m\u001b[0;34m\u001b[0m\u001b[0m\n\u001b[0;32m---> 11\u001b[0;31m     \u001b[0mtime\u001b[0m\u001b[0;34m.\u001b[0m\u001b[0msleep\u001b[0m\u001b[0;34m(\u001b[0m\u001b[0;36m1\u001b[0m\u001b[0;34m)\u001b[0m\u001b[0;34m\u001b[0m\u001b[0;34m\u001b[0m\u001b[0m\n\u001b[0m",
      "\u001b[0;31mKeyboardInterrupt\u001b[0m: "
     ]
    }
   ],
   "source": [
    "#  generators can return things that the caller can use\n",
    "#  Return values using yield command, yield <return-value>\n",
    "def foreveryes():\n",
    "    while True:\n",
    "        yield \"yes\"\n",
    "\n",
    "# notice that the generator now looks like an infinite collection\n",
    "# of answers  (ctrl-c or stop button will stop this)\n",
    "for answer in foreveryes():\n",
    "    print(answer)\n",
    "    time.sleep(1)"
   ]
  },
  {
   "cell_type": "code",
   "execution_count": null,
   "id": "aware-disposal",
   "metadata": {},
   "outputs": [],
   "source": [
    "# of course, you can make the generator more useful by\n",
    "# being able to change its behavior depending on how you create it.\n",
    "def answerman(answer):\n",
    "    while True:\n",
    "        yield answer\n",
    "\n",
    "for answer in answerman(\"no\"):\n",
    "    print(answer)\n",
    "    time.sleep(1)"
   ]
  },
  {
   "cell_type": "code",
   "execution_count": 7,
   "id": "popular-public",
   "metadata": {},
   "outputs": [
    {
     "name": "stdout",
     "output_type": "stream",
     "text": [
      "yes\n",
      "no\n",
      "maybe\n",
      "later\n"
     ]
    }
   ],
   "source": [
    "def oncewaffle(choices):\n",
    "    for choice in choices:\n",
    "        yield choice\n",
    "\n",
    "# will generate the collection of answers once (not so interesting)\n",
    "for answer in oncewaffle([\"yes\", \"no\", \"maybe\", \"later\"]):\n",
    "    print(answer)\n",
    "    time.sleep(1)"
   ]
  },
  {
   "cell_type": "code",
   "execution_count": 8,
   "id": "after-brunswick",
   "metadata": {},
   "outputs": [
    {
     "name": "stdout",
     "output_type": "stream",
     "text": [
      "yes\n",
      "no\n",
      "maybe\n",
      "later\n",
      "yes\n",
      "no\n",
      "maybe\n",
      "later\n",
      "yes\n"
     ]
    },
    {
     "ename": "KeyboardInterrupt",
     "evalue": "",
     "output_type": "error",
     "traceback": [
      "\u001b[0;31m---------------------------------------------------------------------------\u001b[0m",
      "\u001b[0;31mKeyboardInterrupt\u001b[0m                         Traceback (most recent call last)",
      "\u001b[0;32m<ipython-input-8-6012b643ece1>\u001b[0m in \u001b[0;36m<module>\u001b[0;34m\u001b[0m\n\u001b[1;32m      9\u001b[0m \u001b[0;32mfor\u001b[0m \u001b[0manswer\u001b[0m \u001b[0;32min\u001b[0m \u001b[0mforeverwaffle\u001b[0m\u001b[0;34m(\u001b[0m\u001b[0;34m[\u001b[0m\u001b[0;34m\"yes\"\u001b[0m\u001b[0;34m,\u001b[0m \u001b[0;34m\"no\"\u001b[0m\u001b[0;34m,\u001b[0m \u001b[0;34m\"maybe\"\u001b[0m\u001b[0;34m,\u001b[0m \u001b[0;34m\"later\"\u001b[0m\u001b[0;34m]\u001b[0m\u001b[0;34m)\u001b[0m\u001b[0;34m:\u001b[0m\u001b[0;34m\u001b[0m\u001b[0;34m\u001b[0m\u001b[0m\n\u001b[1;32m     10\u001b[0m     \u001b[0mprint\u001b[0m\u001b[0;34m(\u001b[0m\u001b[0manswer\u001b[0m\u001b[0;34m)\u001b[0m\u001b[0;34m\u001b[0m\u001b[0;34m\u001b[0m\u001b[0m\n\u001b[0;32m---> 11\u001b[0;31m     \u001b[0mtime\u001b[0m\u001b[0;34m.\u001b[0m\u001b[0msleep\u001b[0m\u001b[0;34m(\u001b[0m\u001b[0;36m1\u001b[0m\u001b[0;34m)\u001b[0m\u001b[0;34m\u001b[0m\u001b[0;34m\u001b[0m\u001b[0m\n\u001b[0m",
      "\u001b[0;31mKeyboardInterrupt\u001b[0m: "
     ]
    }
   ],
   "source": [
    "# more interesting, perhaps is a generator that never tires of answering\n",
    "def foreverwaffle(choices):\n",
    "    while True:\n",
    "        for choice in choices:\n",
    "            yield choice\n",
    "\n",
    "# will generate an infinite number of choices (in rotation)\n",
    "# ctrl-c or stop button will stop this\n",
    "for answer in foreverwaffle([\"yes\", \"no\", \"maybe\", \"later\"]):\n",
    "    print(answer)\n",
    "    time.sleep(1)"
   ]
  },
  {
   "cell_type": "code",
   "execution_count": null,
   "id": "excessive-queen",
   "metadata": {},
   "outputs": [],
   "source": [
    "# Sometimes we would rather that our generator optionally stop generating.\n",
    "# Sometimes, you may want to limit how much time a generator works.   Or\n",
    "# maybe stop if some condition occurs.  Let's say that you just want it\n",
    "# to generate for 3 seconds.\n",
    "\n",
    "def momentary_answerman(answer, duration):\n",
    "    stop_time = time.time() + duration\n",
    "    while time.time() <= stop_time:\n",
    "        yield answer\n",
    "\n",
    "for answer in momentary_answerman(\"maybe\", 3):\n",
    "    print(answer)\n",
    "    time.sleep(0.25)"
   ]
  },
  {
   "cell_type": "code",
   "execution_count": 5,
   "id": "micro-namibia",
   "metadata": {},
   "outputs": [
    {
     "name": "stdout",
     "output_type": "stream",
     "text": [
      "no\n",
      "no\n",
      "no\n",
      "no\n",
      "no\n",
      "no\n"
     ]
    },
    {
     "ename": "KeyboardInterrupt",
     "evalue": "",
     "output_type": "error",
     "traceback": [
      "\u001b[0;31m---------------------------------------------------------------------------\u001b[0m",
      "\u001b[0;31mKeyboardInterrupt\u001b[0m                         Traceback (most recent call last)",
      "\u001b[0;32m<ipython-input-5-a3cb545bd7be>\u001b[0m in \u001b[0;36m<module>\u001b[0;34m\u001b[0m\n\u001b[1;32m      7\u001b[0m \u001b[0;32mfor\u001b[0m \u001b[0manswer\u001b[0m \u001b[0;32min\u001b[0m \u001b[0manswerman\u001b[0m\u001b[0;34m(\u001b[0m\u001b[0;34m\"no\"\u001b[0m\u001b[0;34m)\u001b[0m\u001b[0;34m:\u001b[0m\u001b[0;34m\u001b[0m\u001b[0;34m\u001b[0m\u001b[0m\n\u001b[1;32m      8\u001b[0m     \u001b[0mprint\u001b[0m\u001b[0;34m(\u001b[0m\u001b[0manswer\u001b[0m\u001b[0;34m)\u001b[0m\u001b[0;34m\u001b[0m\u001b[0;34m\u001b[0m\u001b[0m\n\u001b[0;32m----> 9\u001b[0;31m     \u001b[0mtime\u001b[0m\u001b[0;34m.\u001b[0m\u001b[0msleep\u001b[0m\u001b[0;34m(\u001b[0m\u001b[0;36m1\u001b[0m\u001b[0;34m)\u001b[0m\u001b[0;34m\u001b[0m\u001b[0;34m\u001b[0m\u001b[0m\n\u001b[0m\u001b[1;32m     10\u001b[0m \u001b[0;34m\u001b[0m\u001b[0m\n\u001b[1;32m     11\u001b[0m \u001b[0;32mdef\u001b[0m \u001b[0mforeverwaffle\u001b[0m\u001b[0;34m(\u001b[0m\u001b[0mchoices\u001b[0m\u001b[0;34m)\u001b[0m\u001b[0;34m:\u001b[0m\u001b[0;34m\u001b[0m\u001b[0;34m\u001b[0m\u001b[0m\n",
      "\u001b[0;31mKeyboardInterrupt\u001b[0m: "
     ]
    }
   ],
   "source": [
    "class FakeDriveTrain:\n",
    "    \"\"\"\n",
    "    Fake drivetrain is just a stand-in for a real drivetrain.\n",
    "    Used for this demonstration.   It just prints out what it is doing.\n",
    "    Give it a name when you make it, and it includes the name\n",
    "    in the output message.\n",
    "    \"\"\"\n",
    "    def __init__(self, train):\n",
    "        self.train = train\n",
    "    \n",
    "    def driveArcade(self, forward, rotate):\n",
    "        print(\"Driving {} forward {} and rotating {}\".format(self.train, forward, rotate))\n",
    "\n",
    "#\n",
    "#  So, now you have a framework for doing a task with given arguments\n",
    "#  (so far, only printing a string, but we can make it more sophisticated)\n",
    "#\n",
    "def timed_arcadedrive(duration, drivetrain, forward, rotate):\n",
    "    stop_time = time.time() + duration\n",
    "    while time.time() <= stop_time:\n",
    "        drivetrain.driveArcade(forward, rotate)\n",
    "        yield\n",
    "\n",
    "dt = FakeDriveTrain(\"arcade\")\n",
    "drive_auton = timed_arcadedrive(5, dt, 1.0, 0)\n",
    "\n",
    "for _ in drive_auton:\n",
    "    time.sleep(1)\n",
    "\n",
    "#\n",
    "#  But, then we have to have a momentary function for every kind of thing.\n",
    "#  Perhaps it would be better to define a generic AutoTask object that has\n",
    "#  a do_step() method.   Then, as long as any subtask is an AutoTask object,\n",
    "#  or at least has a do_step() method, we can ask the timed_xxxx() function to\n",
    "#  call the do_step() until the time expires.\n",
    "#\n",
    "\n",
    "class AutoTask:\n",
    "    def __init__(self):\n",
    "        pass\n",
    "\n",
    "    def do_step(self):\n",
    "        pass\n",
    "\n",
    "class AutoArcade(AutoTask):\n",
    "    def __init__(self, train, forward, rotate):\n",
    "        \"\"\"\n",
    "        The task has to store all of the state necessary for\n",
    "        the do_step method to be callable with no arguments.\n",
    "        This way, the timed_xxx() function knows *nothing*\n",
    "        about the subtask.\n",
    "        \"\"\"\n",
    "        self.train = train\n",
    "        self.forward = forward\n",
    "        self.rotate = rotate\n",
    "\n",
    "    def do_step(self):\n",
    "        self.train.driveArcade(self.forward, self.rotate)\n",
    "\n",
    "#\n",
    "#  Now this looks more generic.   You can hand it any task\n",
    "#  it can step the task for the specified amount of time.\n",
    "#\n",
    "def timed_task(duration, task):\n",
    "    stop_time = time.time() + duration\n",
    "    while time.time() <= stop_time:\n",
    "        task.do_step()\n",
    "        yield\n",
    "\n",
    "        \n",
    "# create the drivetrain\n",
    "dt = FakeDriveTrain(\"Arcade\")\n",
    "# create the driving subtask\n",
    "drive_task = AutoArcade(dt, 1.0, 0.1)\n",
    "\n",
    "# auton drives the task for  seconds\n",
    "auton = timed_task(7, drive_task)\n",
    "\n",
    "for _ in auton:\n",
    "    time.sleep(1.0)\n",
    "\n",
    "\n",
    "# We can assemble things a little differently so that\n",
    "# the plan is more readable\n",
    "\n",
    "auton = timed_task(5.0, AutoArcade(dt, 1.0, 0.1))\n",
    "for _ in auton:\n",
    "    time.sleep(1.0)\n",
    "\n",
    "# if use the \"yield from\" operator, we can compose several\n",
    "# automous plans together.     But to get a generator out\n",
    "# of it, we have to put it into a function and call the function.\n",
    "\n",
    "def full_auton(train):\n",
    "    \"\"\"\n",
    "    Chain two autonomous plans together into a single generator\n",
    "    \"\"\"\n",
    "    yield from timed_task(5.0, AutoArcade(train, 1.0, 0.0))\n",
    "    yield from timed_task(4.0, AutoArcade(train, -1.0, 0.0))\n",
    "\n",
    "\n",
    "for _ in full_auton(dt):\n",
    "    time.sleep(1.0)\n",
    "\n",
    "\n",
    "# sometimes we don't want to run the AutoTask for the full length of time.\n",
    "# For example, we might want to drive until we are within 5cm of the target\n",
    "\n",
    "# For this we need an UltraSonic sensor\n",
    "class FakeUltraSonic:\n",
    "    \"\"\"\n",
    "    Since this is not a real sonar unit, we can load the range readings into it\n",
    "    as an iterator that produces the target ranges\n",
    "    \"\"\"\n",
    "    def __init__(self, range_iter):\n",
    "        self.range_iter = range_iter\n",
    "    \n",
    "    def range_cm(self):\n",
    "        try:\n",
    "            cm = next(self.range_iter)\n",
    "            print(\"range to target: {}cm\".format(cm))\n",
    "        except StopIteration:\n",
    "            cm = 0\n",
    "        return cm\n",
    "\n",
    "class AutoDriveToTarget(AutoTask):\n",
    "    \"\"\"\n",
    "    Need more arguments to create the more complex auto plan\n",
    "    \"\"\"\n",
    "    def __init__(self, train, forward, rotate, sonar, end_range_cm):\n",
    "        \"\"\"\n",
    "        The task has to store all of the state necessary for\n",
    "        the time method to be callable with no arguments.\n",
    "        \"\"\"\n",
    "        self.train = train\n",
    "        self.forward = forward\n",
    "        self.rotate = rotate\n",
    "        self.sonar = sonar\n",
    "        self.end_range_cm = end_range_cm\n",
    "    \n",
    "    def do_step(self):\n",
    "        \"\"\"\n",
    "        Now we can't just do our thing, we have to tell the caller\n",
    "        whether or not we are done driving.   So, we can return a\n",
    "        True if we keep going, or False if we are done\n",
    "        \"\"\"\n",
    "        if self.sonar.range_cm() < self.end_range_cm:\n",
    "            self.train.driveArcade(0, 0)\n",
    "            return False\n",
    "        else:\n",
    "            self.train.driveArcade(self.forward, self.rotate)\n",
    "            return True\n",
    "\n",
    "\n",
    "#  But we have to upgrade the timed_task wrapper so it can interpret the return\n",
    "#  value from do_step()\n",
    "def timed_task(duration, task):\n",
    "    stop_time = time.time() + duration\n",
    "    while time.time() <= stop_time:\n",
    "        if task.do_step():\n",
    "            yield\n",
    "        else:\n",
    "            break\n",
    "\n",
    "\n",
    "#\n",
    "# drive until within 5cm of the target or at most for\n",
    "# readings will be 9, 8, 7, 6, 5, 4, .... 0\n",
    "#\n",
    "us = FakeUltraSonic(iter(range(9, 0, -1)))\n",
    "dt = FakeDriveTrain(\"FAKE\")\n",
    "\n",
    "# AutoDriveToTarget needs a drivetrain and an ultrasonic\n",
    "drivetask = AutoDriveToTarget(dt, 0.5, 0, us, 5.0)\n",
    "# do drivetask no longer than 5 seconds\n",
    "for _ in timed_task(5, drivetask):\n",
    "    time.sleep(0.5)\n",
    "\n",
    "\n",
    "\n",
    "#  But it is a bit awkward having the subtask require some kind of special\n",
    "#  return value.   What if the subtask was also a generator?   Then the\n",
    "#  timed_task wrapper could just \"yield from task.do_step()\" and the subtask\n",
    "#  could finish generating when it is done.    Then the rule for building\n",
    "#  auton tasks is that they are generators, and they stop generating when\n",
    "#  the reach their objective.   The timed_task wrapper can stop them when\n",
    "#  their alloted time expires.\n",
    "#\n",
    "#  This can really simplify the writing of autonomous tasks, but it does\n",
    "#  mean the infrastructure has to be a bit more sophisticated.    This is\n",
    "#  because we need to evaluate a function in the subtask that contains a\n",
    "#  \"yield\" in order to get a generator that the parent (timed) task can\n",
    "#  yield from.\n",
    "#\n",
    "#  Generally, when we define an autonomous task, it takes a certain form.\n",
    "#  It needs some initialization (to grab the current time, or, to reset\n",
    "#  something), it needs the actual steps, and it may need some kind of\n",
    "#  stop action.    If you could create a generator framework that would\n",
    "#  support that, you could use it to make a rich variety of tasks.\n",
    "#\n",
    "#  But, remember the function that creates the generator doesn't do anything\n",
    "#  when the generator is first created, so we miss out on an initialization\n",
    "#  opportunity unless the generator is always created immediately after\n",
    "#  an initialization task is done.   That may not be convenient.\n",
    "#  So we add another level where we define the function generator and call/return\n",
    "#  it from the run() call:\n",
    "#\n",
    "def initialize():\n",
    "    print(\"initialize\")\n",
    "\n",
    "def finish():\n",
    "    print(\"finish\")\n",
    "\n",
    "def ideal_auton_run():\n",
    "    \"\"\"\n",
    "    Define the function that will create the generator\n",
    "    \"\"\"\n",
    "    def the_generator():\n",
    "        for i in range(10):\n",
    "            print(\"step {}\".format(i))\n",
    "            yield\n",
    "        finish()\n",
    "    \n",
    "    initialize()\n",
    "    return the_generator()\n",
    "\n",
    "\n",
    "auton = ideal_auton_run()\n",
    "for _ in auton:\n",
    "    time.sleep(1.0)"
   ]
  },
  {
   "cell_type": "code",
   "execution_count": null,
   "id": "contemporary-setup",
   "metadata": {},
   "outputs": [],
   "source": []
  }
 ],
 "metadata": {
  "kernelspec": {
   "display_name": "Python 3",
   "language": "python",
   "name": "python3"
  },
  "language_info": {
   "codemirror_mode": {
    "name": "ipython",
    "version": 3
   },
   "file_extension": ".py",
   "mimetype": "text/x-python",
   "name": "python",
   "nbconvert_exporter": "python",
   "pygments_lexer": "ipython3",
   "version": "3.9.1"
  }
 },
 "nbformat": 4,
 "nbformat_minor": 5
}
